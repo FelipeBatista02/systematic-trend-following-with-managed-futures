{
 "cells": [
  {
   "cell_type": "markdown",
   "metadata": {},
   "source": [
    "# Attribution Study\n",
    "\n",
    "Break down performance by instrument and sector using the analytics helpers."
   ]
  },
  {
   "cell_type": "code",
   "execution_count": null,
   "metadata": {},
   "outputs": [],
   "source": [
    "from tf import api\n",
    "from tf.eval.analytics import compute_exposures, compute_pnl_contributions, compute_sector_contributions\n",
    "\n",
    "result, context = api.run_backtest(\"../../configs/base.yaml\")\n",
    "contributions = compute_pnl_contributions(result.prices, result.positions, result.point_values)\n",
    "sector_contrib = compute_sector_contributions(contributions, result.sector_map)\n",
    "exposures = compute_exposures(result.prices, result.positions, result.point_values)\n",
    "sector_contrib.tail()"
   ]
  },
  {
   "cell_type": "code",
   "execution_count": null,
   "metadata": {},
   "outputs": [],
   "source": [
    "exposures.tail()"
   ]
  }
 ],
 "metadata": {
  "kernelspec": {
   "display_name": "Python 3",
   "language": "python",
   "name": "python3"
  },
  "language_info": {
   "name": "python",
   "pygments_lexer": "ipython3"
  }
 },
 "nbformat": 4,
 "nbformat_minor": 5
}
