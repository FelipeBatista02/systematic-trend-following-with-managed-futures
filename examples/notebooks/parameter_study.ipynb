{
 "cells": [
  {
   "cell_type": "markdown",
   "metadata": {},
   "source": [
    "# Parameter Study\n",
    "\n",
    "Sweep over momentum lookback choices and compare the resulting Sharpe ratios."
   ]
  },
  {
   "cell_type": "code",
   "execution_count": null,
   "metadata": {},
   "outputs": [],
   "source": [
    "import pandas as pd\n",
    "from tf import api\n",
    "from tf.eval.metrics import performance_summary\n",
    "\n",
    "sweep_results, context = api.run_parameter_sweep(\n",
    "    \"../../configs/base.yaml\",\n",
    "    parameter_grid={\"signals.momentum.lookbacks\": [[20], [60], [120]]},\n",
    ")\n",
    "records = []\n",
    "for item in sweep_results:\n",
    "    lookback = item.scenario.grid_overrides[\"signals\"][\"momentum\"][\"lookbacks\"][0]\n",
    "    summary = performance_summary(item.backtest.nav)\n",
    "    records.append({\"lookback\": lookback, \"Sharpe\": summary.get(\"Sharpe\"), \"Max Drawdown\": summary.get(\"Max Drawdown\")})\n",
    "pd.DataFrame(records).set_index(\"lookback\")"
   ]
  },
  {
   "cell_type": "code",
   "execution_count": null,
   "metadata": {},
   "outputs": [],
   "source": [
    "summary_frame = pd.DataFrame(records).set_index(\"lookback\")\n",
    "summary_frame.plot.bar(title=\"Sharpe by Lookback\")"
   ]
  }
 ],
 "metadata": {
  "kernelspec": {
   "display_name": "Python 3",
   "language": "python",
   "name": "python3"
  },
  "language_info": {
   "name": "python",
   "pygments_lexer": "ipython3"
  }
 },
 "nbformat": 4,
 "nbformat_minor": 5
}
